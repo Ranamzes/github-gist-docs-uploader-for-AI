{
	"cells": [
		{
			"cell_type": "markdown",
			"metadata": {},
			"source": [
				"# GitHub Gist Documentation Uploader\n",
				"\n",
				"This notebook will help you upload your Markdown documentation to a GitHub Gist and provide a URL for use in Cursor. It can handle both local directories and GitHub repository URLs."
			]
		},
		{
			"cell_type": "code",
			"execution_count": 27,
			"metadata": {},
			"outputs": [
				{
					"name": "stdout",
					"output_type": "stream",
					"text": [
						"PyGithub not found. Installing...\n",
						"PyGithub installed successfully.\n",
						"python-dotenv not found. Installing...\n",
						"python-dotenv installed successfully.\n",
						"ipython not found. Installing...\n",
						"ipython installed successfully.\n"
					]
				}
			],
			"source": [
				"import sys\n",
				"import subprocess\n",
				"import os\n",
				"import requests\n",
				"from github import Github, InputFileContent\n",
				"from dotenv import load_dotenv\n",
				"from IPython.display import display, HTML\n",
				"import re\n",
				"\n",
				"# Function to install required packages\n",
				"def install_package(package):\n",
				"    subprocess.check_call([sys.executable, \"-m\", \"pip\", \"install\", package])\n",
				"\n",
				"# Check and install required packages\n",
				"required_packages = [\"requests\", \"PyGithub\", \"python-dotenv\", \"ipython\"]\n",
				"for package in required_packages:\n",
				"    try:\n",
				"        __import__(package)\n",
				"    except ImportError:\n",
				"        print(f\"{package} not found. Installing...\")\n",
				"        install_package(package)\n",
				"        print(f\"{package} installed successfully.\")"
			]
		},
		{
			"cell_type": "markdown",
			"metadata": {},
			"source": [
				"## Setup\n",
				"First, let's check if we have a GitHub token stored in a .env file. If not, we'll prompt for one."
			]
		},
		{
			"cell_type": "code",
			"execution_count": 28,
			"metadata": {},
			"outputs": [
				{
					"name": "stdout",
					"output_type": "stream",
					"text": [
						"Token loaded from .env file.\n"
					]
				}
			],
			"source": [
				"load_dotenv()\n",
				"token = os.getenv(\"GITHUB_TOKEN\")\n",
				"\n",
				"if not token:\n",
				"    print(\"To create a GitHub Personal Access Token, please follow these instructions:\")\n",
				"    print(\"1. Go to https://github.com/settings/tokens\")\n",
				"    print(\"2. Click 'Generate new token' (classic)\")\n",
				"    print(\"3. Give your token a descriptive name\")\n",
				"    print(\"4. Set the following permissions:\")\n",
				"    print(\"   - In the 'Repository permissions' section:\")\n",
				"    print(\"     * Contents: Read-only\")\n",
				"    print(\"     * Metadata: Read-only\")\n",
				"    print(\"   - In the 'Account permissions' section:\")\n",
				"    print(\"     * Gists: Read and write\")\n",
				"    print(\"5. Click 'Generate token' at the bottom of the page\")\n",
				"    print(\"6. Copy the created token and paste it below\")\n",
				"    print(\"\\nWARNING: The token will only be shown once. Save it in a secure location.\")\n",
				"\n",
				"    token = input(\"\\nPlease enter your GitHub Personal Access Token: \")\n",
				"\n",
				"    # Save token to .env file\n",
				"    with open(\".env\", \"w\") as env_file:\n",
				"        env_file.write(f\"GITHUB_TOKEN={token}\")\n",
				"\n",
				"    print(\"Token saved to .env file.\")\n",
				"else:\n",
				"    print(\"Token loaded from .env file.\")"
			]
		},
		{
			"cell_type": "markdown",
			"metadata": {},
			"source": [
				"## Set Documentation Source and Gist Name\n",
				"Now, let's set the path or URL to your documentation and name for the Gist."
			]
		},
		{
			"cell_type": "code",
			"execution_count": 29,
			"metadata": {},
			"outputs": [],
			"source": [
				"docs_source = input(\"Enter the path to your documentation directory or GitHub URL: \")\n",
				"gist_name = input(\"Enter a name for your Gist: \")"
			]
		},
		{
			"cell_type": "markdown",
			"metadata": {},
			"source": [
				"## Define Helper Functions"
			]
		},
		{
			"cell_type": "code",
			"execution_count": 30,
			"metadata": {},
			"outputs": [],
			"source": [
				"def is_github_url(url):\n",
				"    return url.startswith(\"https://github.com/\")\n",
				"\n",
				"def get_github_contents(repo_url):\n",
				"    # Extract owner, repo, branch, and path from the URL\n",
				"    match = re.match(r'https://github.com/([^/]+)/([^/]+)/tree/([^/]+)/(.+)', repo_url)\n",
				"    if not match:\n",
				"        raise ValueError(\"Invalid GitHub URL\")\n",
				"\n",
				"    owner, repo, branch, path = match.groups()\n",
				"\n",
				"    def get_contents(path):\n",
				"        api_url = f\"https://api.github.com/repos/{owner}/{repo}/contents/{path}?ref={branch}\"\n",
				"        response = requests.get(api_url, headers={\"Authorization\": f\"token {token}\"})\n",
				"        response.raise_for_status()\n",
				"        return response.json()\n",
				"\n",
				"    def process_contents(contents, current_path=\"\"):\n",
				"        md_files = {}\n",
				"        for item in contents:\n",
				"            if item['type'] == 'file' and item['name'].endswith('.md'):\n",
				"                file_content = requests.get(item['download_url']).text\n",
				"                md_files[os.path.join(current_path, item['name'])] = file_content\n",
				"            elif item['type'] == 'dir':\n",
				"                subdir_contents = get_contents(item['path'])\n",
				"                md_files.update(process_contents(subdir_contents, os.path.join(current_path, item['name'])))\n",
				"        return md_files\n",
				"\n",
				"    initial_contents = get_contents(path)\n",
				"    return process_contents(initial_contents)\n",
				"\n",
				"def get_local_md_files(directory):\n",
				"    md_files = {}\n",
				"    for root, dirs, files in os.walk(directory):\n",
				"        for file in files:\n",
				"            if file.endswith(\".md\"):\n",
				"                file_path = os.path.join(root, file)\n",
				"                with open(file_path, \"r\", encoding=\"utf-8\") as f:\n",
				"                    md_files[file] = f.read()\n",
				"    return md_files"
			]
		},
		{
			"cell_type": "markdown",
			"metadata": {},
			"source": [
				"## Upload Files to Gist"
			]
		},
		{
			"cell_type": "code",
			"execution_count": 31,
			"metadata": {},
			"outputs": [
				{
					"name": "stdout",
					"output_type": "stream",
					"text": [
						"A Gist with the name 'Godot XR-Tools docs for llm ' already exists.\n",
						"Existing Gist updated.\n"
					]
				},
				{
					"data": {
						"text/html": [
							"<p>Gist URL: <a href=\"https://gist.github.com/Ranamzes/89d70ee0974b1cf6e9e90742d8ad4957\" target=\"_blank\">https://gist.github.com/Ranamzes/89d70ee0974b1cf6e9e90742d8ad4957</a></p>"
						],
						"text/plain": [
							"<IPython.core.display.HTML object>"
						]
					},
					"metadata": {},
					"output_type": "display_data"
				},
				{
					"name": "stdout",
					"output_type": "stream",
					"text": [
						"Use this URL in Cursor to add your documentation.\n"
					]
				}
			],
			"source": [
				"# Create a Github instance\n",
				"g = Github(token)\n",
				"\n",
				"# Get all MD files\n",
				"if is_github_url(docs_source):\n",
				"    md_files = get_github_contents(docs_source)\n",
				"else:\n",
				"    md_files = get_local_md_files(docs_source)\n",
				"\n",
				"# Create a new gist\n",
				"gist_files = {}\n",
				"for file_name, content in md_files.items():\n",
				"    gist_files[file_name] = InputFileContent(content)\n",
				"\n",
				"# Get user's gists\n",
				"user = g.get_user()\n",
				"gists = user.get_gists()\n",
				"\n",
				"# Try to find existing gist with the same name\n",
				"existing_gist = None\n",
				"for gist in gists:\n",
				"    if gist.description == gist_name:\n",
				"        existing_gist = gist\n",
				"        break\n",
				"\n",
				"if existing_gist:\n",
				"    print(f\"A Gist with the name '{gist_name}' already exists.\")\n",
				"    choice = input(\"Do you want to update the existing Gist or create a new one? (update/new): \").lower()\n",
				"\n",
				"    if choice == 'update':\n",
				"        # Update existing gist\n",
				"        existing_gist.edit(description=gist_name, files=gist_files)\n",
				"        gist = existing_gist\n",
				"        print(\"Existing Gist updated.\")\n",
				"    else:\n",
				"        # Create new gist\n",
				"        gist = g.get_user().create_gist(public=True, files=gist_files, description=gist_name)\n",
				"        print(\"New Gist created.\")\n",
				"else:\n",
				"    # Create new gist\n",
				"    gist = g.get_user().create_gist(public=True, files=gist_files, description=gist_name)\n",
				"    print(\"New Gist created.\")\n",
				"\n",
				"# Display the gist URL\n",
				"display(HTML(f'<p>Gist URL: <a href=\"{gist.html_url}\" target=\"_blank\">{gist.html_url}</a></p>'))\n",
				"print(\"Use this URL in Cursor to add your documentation.\")"
			]
		}
	],
	"metadata": {
		"kernelspec": {
			"display_name": "Python 3",
			"language": "python",
			"name": "python3"
		},
		"language_info": {
			"codemirror_mode": {
				"name": "ipython",
				"version": 3
			},
			"file_extension": ".py",
			"mimetype": "text/x-python",
			"name": "python",
			"nbconvert_exporter": "python",
			"pygments_lexer": "ipython3",
			"version": "3.12.0"
		}
	},
	"nbformat": 4,
	"nbformat_minor": 2
}
